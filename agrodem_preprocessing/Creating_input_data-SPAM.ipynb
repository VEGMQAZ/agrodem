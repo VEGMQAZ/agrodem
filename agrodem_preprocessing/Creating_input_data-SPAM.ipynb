{
 "cells": [
  {
   "cell_type": "markdown",
   "metadata": {},
   "source": [
    "# Creating input data\n",
    "\n",
    "Here we import and filter the SPAM dataset so as to retrieve 10x10 km allocation of rainfed maize for a region.\n",
    "Note that the \"spam2010V1r1_global_H_TR.csv\" file was selected - other options are available."
   ]
  },
  {
   "cell_type": "code",
   "execution_count": null,
   "metadata": {},
   "outputs": [],
   "source": [
    "import os\n",
    "import geopandas as gpd\n",
    "import pandas as pd\n",
    "# Import data \n",
    "\n",
    "#path = r\"N:\\Agrodem\\spam2010v1r1_global_harv_area.csv\"\n",
    "path = r\"C:\\Users\\oluchi\\Downloads\\spam2010v1r1_global_harv_area.csv\"\n",
    "name_of_file = \"spam2010V1r1_global_H_TR.csv\"\n",
    "\n",
    "# Import csv as pandas dataframe\n",
    "SPAM_database_df = pd.read_csv(path + \"\\\\\" + name_of_file, encoding='latin1')"
   ]
  },
  {
   "cell_type": "code",
   "execution_count": null,
   "metadata": {},
   "outputs": [],
   "source": [
    "SPAM_database_df.columns"
   ]
  },
  {
   "cell_type": "code",
   "execution_count": null,
   "metadata": {},
   "outputs": [],
   "source": [
    "# Keep only Benin - filter rows using Pandas chaining?\n",
    "BEN_SPAM_df = SPAM_database_df[SPAM_database_df.name_cntr.eq(\"Benin\")]"
   ]
  },
  {
   "cell_type": "raw",
   "metadata": {},
   "source": [
    "BEN_SPAM_df.columns"
   ]
  },
  {
   "cell_type": "code",
   "execution_count": null,
   "metadata": {},
   "outputs": [],
   "source": [
    "# Keeping only columns indicating harv area for maize \n",
    "Maize_BEN_SPAM_df = BEN_SPAM_df[BEN_SPAM_df['maiz_r'] >= 0]\n",
    "\n",
    "# Filtering out any NaN values\n",
    "Maize_BEN_SPAM_df = Maize_BEN_SPAM_df[Maize_BEN_SPAM_df.maiz_r.notnull()]\n",
    "\n",
    "# droping other crop or an-necessary columns\n",
    "Maize_BEN_SPAM_df = Maize_BEN_SPAM_df.drop(['iso3', 'prod_level', 'cell5m', 'rec_type',\n",
    "       'tech_type', 'unit', 'whea_r','rice_r','barl_r', 'pmil_r',\n",
    "       'smil_r', 'sorg_r', 'ocer_r', 'pota_r', 'swpo_r', 'yams_r', 'cass_r',\n",
    "       'orts_r', 'bean_r', 'chic_r', 'cowp_r', 'pige_r', 'lent_r', 'opul_r',\n",
    "       'soyb_r', 'grou_r', 'cnut_r', 'oilp_r', 'sunf_r', 'rape_r', 'sesa_r',\n",
    "       'ooil_r', 'sugc_r', 'sugb_r', 'ofib_r', 'acof_r', 'rcof_r', 'cott_r',\n",
    "       'coco_r', 'teas_r', 'toba_r', 'bana_r', 'plnt_r', 'trof_r', 'temf_r',\n",
    "       'vege_r', 'rest_r', 'crea_date', 'source', 'name_cntr', 'name_adm1', 'year_data'], axis=1)"
   ]
  },
  {
   "cell_type": "code",
   "execution_count": null,
   "metadata": {},
   "outputs": [],
   "source": [
    "Maize_BEN_SPAM_df.head(4)"
   ]
  },
  {
   "cell_type": "code",
   "execution_count": null,
   "metadata": {},
   "outputs": [],
   "source": [
    "# Adding few columns as needed\n",
    "\n",
    "Maize_BEN_SPAM_df[\"Crop\"] = \"Maize\"\n",
    "Maize_BEN_SPAM_df[\"Fraction\"] = 1"
   ]
  },
  {
   "cell_type": "code",
   "execution_count": null,
   "metadata": {},
   "outputs": [],
   "source": [
    "# Rename columns as needed for agrodem process\n",
    "\n",
    "Maize_BEN_SPAM_df.rename(columns={\"alloc_key\": \"Pixel\", \n",
    "                                  \"x\": \"lon\", \n",
    "                                  \"y\": \"lat\", \n",
    "                                  \"maiz_r\": \"CropArea\", \n",
    "                                  \"name_adm2\": \"State\"},inplace = True)"
   ]
  },
  {
   "cell_type": "code",
   "execution_count": null,
   "metadata": {},
   "outputs": [],
   "source": [
    "Maize_BEN_SPAM_df.columns"
   ]
  },
  {
   "cell_type": "code",
   "execution_count": null,
   "metadata": {},
   "outputs": [],
   "source": [
    "# Define output path\n",
    "#path = r\"N:\\Agrodem\\Irrigation_model\\Input_data\"\n",
    "path = r\"C:\\Oluchi\\Benin\"\n",
    "csvname = \"SPAM_Benin_Maize_rainfed_Harv_2010_admin2_10km.csv\"\n",
    "\n",
    "#drybeans\n",
    "Maize_BEN_SPAM_df.to_csv(os.path.join(path,\"{c}\".format(c=csvname)), index=False)"
   ]
  },
  {
   "cell_type": "code",
   "execution_count": null,
   "metadata": {},
   "outputs": [],
   "source": []
  },
  {
   "cell_type": "code",
   "execution_count": null,
   "metadata": {},
   "outputs": [],
   "source": [
    "## Create a sample dataset\n",
    "#sample_crop_df = sample_crop_df.sample(1000)"
   ]
  }
 ],
 "metadata": {
  "kernelspec": {
   "display_name": "Python 3",
   "language": "python",
   "name": "python3"
  },
  "language_info": {
   "codemirror_mode": {
    "name": "ipython",
    "version": 3
   },
   "file_extension": ".py",
   "mimetype": "text/x-python",
   "name": "python",
   "nbconvert_exporter": "python",
   "pygments_lexer": "ipython3",
   "version": "3.7.3"
  }
 },
 "nbformat": 4,
 "nbformat_minor": 1
}
