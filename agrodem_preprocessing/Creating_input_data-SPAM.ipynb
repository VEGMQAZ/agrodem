{
 "cells": [
  {
   "cell_type": "markdown",
   "metadata": {},
   "source": [
    "# Creating input data\n",
    "\n",
    "Here we import and filter the SPAM dataset so as to retrieve 10x10 km allocation of rainfed maize for a region.\n",
    "Note that the \"spam2010V1r1_global_H_TR.csv\" file was selected - other options are available."
   ]
  },
  {
   "cell_type": "code",
   "execution_count": 1,
   "metadata": {},
   "outputs": [],
   "source": [
    "import os\n",
    "import geopandas as gpd\n",
    "import pandas as pd\n",
    "# Import data \n",
    "\n",
    "#path = r\"N:\\Agrodem\\spam2010v1r1_global_harv_area.csv\"\n",
    "path = r\"C:\\Users\\oluchi\\Downloads\\spam2010v1r1_global_harv_area.csv\"\n",
    "name_of_file = \"spam2010V1r1_global_H_TR.csv\"\n",
    "\n",
    "# Import csv as pandas dataframe\n",
    "SPAM_database_df = pd.read_csv(path + \"\\\\\" + name_of_file, encoding='latin1')"
   ]
  },
  {
   "cell_type": "code",
   "execution_count": 2,
   "metadata": {},
   "outputs": [
    {
     "data": {
      "text/plain": [
       "Index(['iso3', 'prod_level', 'alloc_key', 'cell5m', 'x', 'y', 'rec_type',\n",
       "       'tech_type', 'unit', 'whea_r', 'rice_r', 'maiz_r', 'barl_r', 'pmil_r',\n",
       "       'smil_r', 'sorg_r', 'ocer_r', 'pota_r', 'swpo_r', 'yams_r', 'cass_r',\n",
       "       'orts_r', 'bean_r', 'chic_r', 'cowp_r', 'pige_r', 'lent_r', 'opul_r',\n",
       "       'soyb_r', 'grou_r', 'cnut_r', 'oilp_r', 'sunf_r', 'rape_r', 'sesa_r',\n",
       "       'ooil_r', 'sugc_r', 'sugb_r', 'cott_r', 'ofib_r', 'acof_r', 'rcof_r',\n",
       "       'coco_r', 'teas_r', 'toba_r', 'bana_r', 'plnt_r', 'trof_r', 'temf_r',\n",
       "       'vege_r', 'rest_r', 'crea_date', 'year_data', 'source', 'name_cntr',\n",
       "       'name_adm1', 'name_adm2'],\n",
       "      dtype='object')"
      ]
     },
     "execution_count": 2,
     "metadata": {},
     "output_type": "execute_result"
    }
   ],
   "source": [
    "SPAM_database_df.columns"
   ]
  },
  {
   "cell_type": "code",
   "execution_count": 3,
   "metadata": {},
   "outputs": [],
   "source": [
    "# Keep only Benin - filter rows using Pandas chaining?\n",
    "BEN_SPAM_df = SPAM_database_df[SPAM_database_df.name_cntr.eq(\"Benin\")]"
   ]
  },
  {
   "cell_type": "raw",
   "metadata": {},
   "source": [
    "BEN_SPAM_df.columns"
   ]
  },
  {
   "cell_type": "code",
   "execution_count": 4,
   "metadata": {},
   "outputs": [],
   "source": [
    "# Keeping only columns indicating harv area for maize \n",
    "Maize_BEN_SPAM_df = BEN_SPAM_df[BEN_SPAM_df['maiz_r'] >= 0]\n",
    "\n",
    "# Filtering out any NaN values\n",
    "Maize_BEN_SPAM_df = Maize_BEN_SPAM_df[Maize_BEN_SPAM_df.maiz_r.notnull()]\n",
    "\n",
    "# droping other crop or an-necessary columns\n",
    "Maize_BEN_SPAM_df = Maize_BEN_SPAM_df.drop(['iso3', 'prod_level', 'cell5m', 'rec_type',\n",
    "       'tech_type', 'unit', 'whea_r','rice_r','barl_r', 'pmil_r',\n",
    "       'smil_r', 'sorg_r', 'ocer_r', 'pota_r', 'swpo_r', 'yams_r', 'cass_r',\n",
    "       'orts_r', 'bean_r', 'chic_r', 'cowp_r', 'pige_r', 'lent_r', 'opul_r',\n",
    "       'soyb_r', 'grou_r', 'cnut_r', 'oilp_r', 'sunf_r', 'rape_r', 'sesa_r',\n",
    "       'ooil_r', 'sugc_r', 'sugb_r', 'ofib_r', 'acof_r', 'rcof_r', 'cott_r',\n",
    "       'coco_r', 'teas_r', 'toba_r', 'bana_r', 'plnt_r', 'trof_r', 'temf_r',\n",
    "       'vege_r', 'rest_r', 'crea_date', 'source', 'name_cntr', 'name_adm1', 'year_data'], axis=1)"
   ]
  },
  {
   "cell_type": "code",
   "execution_count": 14,
   "metadata": {},
   "outputs": [
    {
     "data": {
      "text/html": [
       "<div>\n",
       "<style scoped>\n",
       "    .dataframe tbody tr th:only-of-type {\n",
       "        vertical-align: middle;\n",
       "    }\n",
       "\n",
       "    .dataframe tbody tr th {\n",
       "        vertical-align: top;\n",
       "    }\n",
       "\n",
       "    .dataframe thead th {\n",
       "        text-align: right;\n",
       "    }\n",
       "</style>\n",
       "<table border=\"1\" class=\"dataframe\">\n",
       "  <thead>\n",
       "    <tr style=\"text-align: right;\">\n",
       "      <th></th>\n",
       "      <th>Pixel</th>\n",
       "      <th>lon</th>\n",
       "      <th>lat</th>\n",
       "      <th>CropArea</th>\n",
       "      <th>State</th>\n",
       "      <th>Crop</th>\n",
       "      <th>Fraction</th>\n",
       "    </tr>\n",
       "  </thead>\n",
       "  <tbody>\n",
       "    <tr>\n",
       "      <th>618807</th>\n",
       "      <td>9322194</td>\n",
       "      <td>2.791667</td>\n",
       "      <td>12.375000</td>\n",
       "      <td>113.5</td>\n",
       "      <td>Karimama</td>\n",
       "      <td>Maize</td>\n",
       "      <td>1</td>\n",
       "    </tr>\n",
       "    <tr>\n",
       "      <th>618808</th>\n",
       "      <td>9322195</td>\n",
       "      <td>2.875000</td>\n",
       "      <td>12.375000</td>\n",
       "      <td>148.0</td>\n",
       "      <td>Karimama</td>\n",
       "      <td>Maize</td>\n",
       "      <td>1</td>\n",
       "    </tr>\n",
       "    <tr>\n",
       "      <th>619379</th>\n",
       "      <td>9332192</td>\n",
       "      <td>2.625000</td>\n",
       "      <td>12.291667</td>\n",
       "      <td>158.9</td>\n",
       "      <td>Karimama</td>\n",
       "      <td>Maize</td>\n",
       "      <td>1</td>\n",
       "    </tr>\n",
       "    <tr>\n",
       "      <th>619380</th>\n",
       "      <td>9332193</td>\n",
       "      <td>2.708333</td>\n",
       "      <td>12.291667</td>\n",
       "      <td>106.1</td>\n",
       "      <td>Karimama</td>\n",
       "      <td>Maize</td>\n",
       "      <td>1</td>\n",
       "    </tr>\n",
       "  </tbody>\n",
       "</table>\n",
       "</div>"
      ],
      "text/plain": [
       "          Pixel       lon        lat  CropArea     State   Crop  Fraction\n",
       "618807  9322194  2.791667  12.375000     113.5  Karimama  Maize         1\n",
       "618808  9322195  2.875000  12.375000     148.0  Karimama  Maize         1\n",
       "619379  9332192  2.625000  12.291667     158.9  Karimama  Maize         1\n",
       "619380  9332193  2.708333  12.291667     106.1  Karimama  Maize         1"
      ]
     },
     "execution_count": 14,
     "metadata": {},
     "output_type": "execute_result"
    }
   ],
   "source": [
    "Maize_BEN_SPAM_df.head(4)"
   ]
  },
  {
   "cell_type": "code",
   "execution_count": 15,
   "metadata": {},
   "outputs": [],
   "source": [
    "# Adding few columns as needed\n",
    "\n",
    "Maize_BEN_SPAM_df[\"Crop\"] = \"Maize\"\n",
    "Maize_BEN_SPAM_df[\"Fraction\"] = 1"
   ]
  },
  {
   "cell_type": "code",
   "execution_count": 16,
   "metadata": {},
   "outputs": [],
   "source": [
    "# Rename columns as needed for agrodem process\n",
    "\n",
    "Maize_BEN_SPAM_df.rename(columns={\"alloc_key\": \"Pixel\", \n",
    "                                  \"x\": \"lon\", \n",
    "                                  \"y\": \"lat\", \n",
    "                                  \"maiz_r\": \"CropArea\", \n",
    "                                  \"name_adm2\": \"State\"},inplace = True)"
   ]
  },
  {
   "cell_type": "code",
   "execution_count": 17,
   "metadata": {},
   "outputs": [
    {
     "data": {
      "text/plain": [
       "Index(['Pixel', 'lon', 'lat', 'CropArea', 'State', 'Crop', 'Fraction'], dtype='object')"
      ]
     },
     "execution_count": 17,
     "metadata": {},
     "output_type": "execute_result"
    }
   ],
   "source": [
    "Maize_BEN_SPAM_df.columns"
   ]
  },
  {
   "cell_type": "code",
   "execution_count": 18,
   "metadata": {},
   "outputs": [],
   "source": [
    "# Define output path\n",
    "#path = r\"N:\\Agrodem\\Irrigation_model\\Input_data\"\n",
    "path = r\"C:\\Oluchi\\Benin\"\n",
    "csvname = \"SPAM_Benin_Maize_rainfed_Harv_2010_admin2_10km.csv\"\n",
    "\n",
    "#drybeans\n",
    "Maize_BEN_SPAM_df.to_csv(os.path.join(path,\"{c}\".format(c=csvname)), index=False)"
   ]
  },
  {
   "cell_type": "code",
   "execution_count": null,
   "metadata": {},
   "outputs": [],
   "source": []
  },
  {
   "cell_type": "code",
   "execution_count": 24,
   "metadata": {},
   "outputs": [],
   "source": [
    "## Create a sample dataset\n",
    "#sample_crop_df = sample_crop_df.sample(1000)"
   ]
  }
 ],
 "metadata": {
  "kernelspec": {
   "display_name": "Python 3",
   "language": "python",
   "name": "python3"
  },
  "language_info": {
   "codemirror_mode": {
    "name": "ipython",
    "version": 3
   },
   "file_extension": ".py",
   "mimetype": "text/x-python",
   "name": "python",
   "nbconvert_exporter": "python",
   "pygments_lexer": "ipython3",
   "version": "3.7.3"
  }
 },
 "nbformat": 4,
 "nbformat_minor": 1
}
