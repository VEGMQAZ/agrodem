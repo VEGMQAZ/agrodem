{
 "cells": [
  {
   "cell_type": "markdown",
   "metadata": {},
   "source": [
    "# FLAT input data prepping\n",
    "\n",
    "This code prepares the final input file to the FLAT model. \n",
    "\n",
    "**Original code:** [Konstantinos Pegios](https://github.com/kopegios) <br />\n",
    "**Conceptualization & Methodological review :** [Alexandros Korkovelos](https://github.com/akorkovelos) & [Konstantinos Pegios](https://github.com/kopegios)<br />\n",
    "**Updates, Modifications:** [Alexandros Korkovelos](https://github.com/akorkovelos)<br />\n",
    "**Funding:** The World Bank (contract number: 7190531), [KTH](https://www.kth.se/en/itm/inst/energiteknik/forskning/desa/welcome-to-the-unit-of-energy-systems-analysis-kth-desa-1.197296)"
   ]
  },
  {
   "cell_type": "code",
   "execution_count": null,
   "metadata": {},
   "outputs": [],
   "source": [
    "#Import modules and libraries\n",
    "\n",
    "import geopandas as gpd\n",
    "import rasterio as rio\n",
    "import pandas as pd\n",
    "import fiona\n",
    "import gdal\n",
    "import osr\n",
    "import ogr\n",
    "import rasterio.mask\n",
    "import time\n",
    "import os\n",
    "import ogr, gdal, osr, os\n",
    "import numpy as np\n",
    "import itertools\n",
    "import re\n",
    "\n",
    "from osgeo import gdal,ogr\n",
    "import struct\n",
    "import csv\n",
    "\n",
    "import glob\n",
    "\n",
    "from rasterio.warp import calculate_default_transform, reproject\n",
    "from rasterio.enums import Resampling\n",
    "from rasterstats import point_query\n",
    "from pyproj import Proj\n",
    "from shapely.geometry import Point, Polygon"
   ]
  },
  {
   "cell_type": "code",
   "execution_count": null,
   "metadata": {},
   "outputs": [],
   "source": [
    "# Import data \n",
    "\n",
    "#path = r\"N:\\Agrodem\\Downscaling\\Output_Data\\FAO_AgroMap_Crops\"\n",
    "path = r\"C:\\Benin\\agrodem_preprocessing\\Downscaling\\Output_Data\"\n",
    "name_of_file = \"Ben_Maize_Harv_2000_admin2_1km.csv\""
   ]
  },
  {
   "cell_type": "code",
   "execution_count": null,
   "metadata": {},
   "outputs": [],
   "source": [
    "# Import csv as pandas dataframe\n",
    "df = pd.read_csv(path + \"\\\\\" + name_of_file)"
   ]
  },
  {
   "cell_type": "code",
   "execution_count": null,
   "metadata": {},
   "outputs": [],
   "source": [
    "#df = df.drop([\"yield\", \"production_ha\"], axis=1)\n",
    "df.rename(columns={'id': 'alloc_key'}, inplace=True)"
   ]
  },
  {
   "cell_type": "code",
   "execution_count": null,
   "metadata": {},
   "outputs": [],
   "source": [
    "df.rename(columns={'COUNTRY_COUNTRY': 'state'}, inplace=True)\n",
    "df.rename(columns={'X_deg': 'lon'}, inplace=True)\n",
    "df.rename(columns={'Y_deg': 'lat'}, inplace=True)\n",
    "df.rename(columns={'area_ha': 'statearea_ha'}, inplace=True)\n",
    "df.rename(columns={'country_code': 'c_code'}, inplace=True)"
   ]
  },
  {
   "cell_type": "code",
   "execution_count": null,
   "metadata": {},
   "outputs": [],
   "source": [
    "df.head()"
   ]
  },
  {
   "cell_type": "code",
   "execution_count": null,
   "metadata": {},
   "outputs": [],
   "source": [
    "#Function to change the order of columns in the dataframe \n",
    "def change_column_order(df, col_name, index):\n",
    "    cols = df.columns.tolist()\n",
    "    cols.remove(col_name)\n",
    "    cols.insert(index, col_name)\n",
    "    return df[cols]"
   ]
  },
  {
   "cell_type": "code",
   "execution_count": null,
   "metadata": {},
   "outputs": [],
   "source": [
    "# Allocate order in dataframe columns\n",
    "df = change_column_order(df, 'alloc_key', 1)\n",
    "df = change_column_order(df, 'lon', 2)\n",
    "df = change_column_order(df, 'lat', 3)\n",
    "df = change_column_order(df, 'country', 4)\n",
    "df = change_column_order(df, 'c_code', 5)\n",
    "df = change_column_order(df, 'state', 6)\n",
    "df = change_column_order(df, 'statearea_ha', 7)\n",
    "df = change_column_order(df, 'perimeter_km', 8)\n",
    "df = change_column_order(df, 'year', 9)\n",
    "df = change_column_order(df, 'crop', 10)\n",
    "df = change_column_order(df, 'harv_area_ha', 11)"
   ]
  },
  {
   "cell_type": "code",
   "execution_count": null,
   "metadata": {},
   "outputs": [],
   "source": [
    "df.head()"
   ]
  },
  {
   "cell_type": "code",
   "execution_count": null,
   "metadata": {},
   "outputs": [],
   "source": [
    "# Add geometry and convert to spatial dataframe in source CRS\n",
    "df['geometry'] = list(zip(df['lon'], df['lat']))\n",
    "df['geometry'] = df['geometry'].apply(Point)\n",
    "df = gpd.GeoDataFrame(df, geometry='geometry', crs={'init': 'epsg:4326'})\n",
    "\n",
    "# Reproject data in to Ordnance Survey GB coordinates\n",
    "df_osgb = df.to_crs({'init': 'epsg:32631'})"
   ]
  },
  {
   "cell_type": "code",
   "execution_count": null,
   "metadata": {},
   "outputs": [],
   "source": [
    "df_osgb.head()"
   ]
  },
  {
   "cell_type": "markdown",
   "metadata": {},
   "source": [
    "<div class=\"alert alert-block alert-warning\">\n",
    "<b>Note:</b> The geodataframe, contains crop points with needed attributes including a geometry column. It needs to be exported as shapefile. However, when this is done with geopandas, the column geometry (Point(x,y)) is not transfered in the attribute table. This is however needed for the extraction process below, otherwise \"None\" values are returned. In order to overcome this issue, the csv is imported into Qgis and then exported as feature layer in the same folder. This solves the issue. \n",
    "</div>"
   ]
  },
  {
   "cell_type": "code",
   "execution_count": null,
   "metadata": {},
   "outputs": [],
   "source": [
    "# Define output path\n",
    "# Overwriting the csv file\n",
    "#path = r\"N:\\Agrodem\\Downscaling\\Output_Data\\FAO_AgroMap_Crops\"\n",
    "path = r\"C:\\Benin\\agrodem_preprocessing\\Downscaling\\Output_Data\"\n",
    "shpname = \"Ben_Maize_Harv_2000_admin2_1km_new.csv\"\n",
    "\n",
    "#MAIZE\n",
    "df_osgb.to_csv(os.path.join(path,\"{c}\".format(c=shpname)), index=False)\n",
    "df_osgb.to_file(os.path.join(path,\"{c}.shp\".format(c=\"Ben_Maize_2018_admin2_new\")))\n",
    "# Define output path\n",
    "#path = r\"N:\\Agrodem\\Downscaling\\Output_Data\\Crop_Maps\"\n",
    "#path = r\"C:\\Benin\\agrodem_preprocessing\\Downscaling\\Output_Data\\Crop_Maps\"\n",
    "\n",
    "#Maize\n"
   ]
  },
  {
   "cell_type": "markdown",
   "metadata": {},
   "source": [
    "#### >>> Please open Qgis and act as suggested above<<<"
   ]
  },
  {
   "cell_type": "markdown",
   "metadata": {},
   "source": [
    "## Extracting raster input to csv "
   ]
  },
  {
   "cell_type": "code",
   "execution_count": null,
   "metadata": {},
   "outputs": [],
   "source": [
    "#raster_path = r\"N:\\Agrodem\\Downscaling\\Input_Data\\rasters\"\n",
    "raster_path = r\"C:\\Oluchi\\Downscaling\\Input_Data\\raster\"\n",
    "raster_files =[]\n",
    "#csvoutpath = r\"N:\\Agrodem\\Downscaling\\Output_Data\\FLAT_input\\1km_Rice\"\n",
    "csvoutpath = r\"C:\\Oluchi\\Downscaling\\Output_Data\\FLAT_Input\\1km_Maize\"\n",
    "\n",
    "print (\"Reading independent variables...\")\n",
    "\n",
    "for i in os.listdir(raster_path):\n",
    "    if i.endswith('.tif'):\n",
    "        raster_files.append(i)  \n",
    "\n",
    "#shp_filename = r\"N:\\Agrodem\\Downscaling\\Output_Data\\FAO_AgroMap_Crops\\shapefiles\\Moz_Rice_Harv_2000_admin2_1km.shp\"\n",
    "shp_filename = r\"C:\\Benin\\agrodem_preprocessing\\Downscaling\\Output_Data\\Ben_Maize_2018_admin2_new.shp\"\n",
    "print (\"Extracting raster values to points...\")\n",
    "\n",
    "for i in raster_files:\n",
    "    print(\"Extracting \" + i + \" values...\")\n",
    "    src_filename = raster_path + \"\\\\\" + i \n",
    "    li_values = list()\n",
    "\n",
    "    src_ds=gdal.Open(src_filename) \n",
    "    gt=src_ds.GetGeoTransform()\n",
    "    rb=src_ds.GetRasterBand(1)\n",
    "    ds=ogr.Open(shp_filename)    \n",
    "    lyr=ds.GetLayer()\n",
    "    \n",
    "    for feat in lyr:\n",
    "        geom = feat.GetGeometryRef()\n",
    "        feat_id = feat.GetField('alloc_key')\n",
    "        mx,my=geom.GetX(), geom.GetY()  #coord in map units\n",
    "\n",
    "        #Convert from map to pixel coordinates.\n",
    "        #Only works for geotransforms with no rotation.\n",
    "        px = int((mx - gt[0]) / gt[1]) #x pixel\n",
    "        py = int((my - gt[3]) / gt[5]) #y pixel\n",
    "\n",
    "\n",
    "        intval=rb.ReadAsArray()\n",
    "        li_values.append([feat_id, intval[0]])\n",
    "        \n",
    "    print (\"Writing \" + i + \" values to csv...\")\n",
    "    \n",
    "    with open(csvoutpath + \"\\\\\" + i.split('.')[0] + '.csv', 'w') as csvfile:\n",
    "        wr = csv.writer(csvfile)\n",
    "        wr.writerows(li_values)"
   ]
  },
  {
   "cell_type": "markdown",
   "metadata": {},
   "source": [
    "## Merge csv files with crop"
   ]
  },
  {
   "cell_type": "code",
   "execution_count": null,
   "metadata": {},
   "outputs": [],
   "source": [
    "#Import data \n",
    "\n",
    "#path = r\"N:\\Agrodem\\Downscaling\\Output_Data\\FAO_AgroMap_Crops\"\n",
    "path = r\"C:\\Benin\\agrodem_preprocessing\\Downscaling\\Output_Data\"\n",
    "name_of_file = \"Ben_Maize_Harv_2000_admin2_1km.csv\"\n",
    "\n",
    "flat_input = pd.read_csv(path + \"\\\\\" + name_of_file)"
   ]
  },
  {
   "cell_type": "code",
   "execution_count": null,
   "metadata": {},
   "outputs": [],
   "source": [
    "csvoutpath = r\"N:\\Agrodem\\Downscaling\\Output_Data\\FLAT_input\\1km_Rice\"\n",
    "\n",
    "csv_files = []\n",
    "\n",
    "print (\"Reading csv files...\")\n",
    "\n",
    "for i in os.listdir(csvoutpath):\n",
    "    if i.endswith('.csv'):\n",
    "        csv_files.append(i)  \n",
    "\n",
    "for i in csv_files:\n",
    "    print('Reading...'+ i)    \n",
    "    df_csv = pd.read_csv(csvoutpath + \"//\" + i, index_col=None, header=None)\n",
    "    df_csv.iloc[:,1] = df_csv.iloc[:,1].astype(str)\n",
    "    df_csv.iloc[:,1] = df_csv.iloc[:,1].str.replace('[','')\n",
    "    df_csv.iloc[:,1] = df_csv.iloc[:,1].str.replace(']','')\n",
    "    columnName = i.split('.')[0]\n",
    "    print(\"Merging...\" + columnName)\n",
    "    flat_input[columnName] = df_csv.iloc[:,1]"
   ]
  },
  {
   "cell_type": "markdown",
   "metadata": {},
   "source": [
    "## Cleaning and normalizing dataframe"
   ]
  },
  {
   "cell_type": "code",
   "execution_count": null,
   "metadata": {},
   "outputs": [],
   "source": [
    "#Show columns\n",
    "flat_input.columns"
   ]
  },
  {
   "cell_type": "code",
   "execution_count": null,
   "metadata": {},
   "outputs": [],
   "source": [
    "#Delete geometry column\n",
    "flat_input = flat_input.drop([\"geometry\"], axis=1)"
   ]
  },
  {
   "cell_type": "markdown",
   "metadata": {},
   "source": [
    "#### Convert values in newly added columns into float "
   ]
  },
  {
   "cell_type": "code",
   "execution_count": null,
   "metadata": {},
   "outputs": [],
   "source": [
    "flat_input[\"harv_area_ha\"] = flat_input[\"harv_area_ha\"].astype(float)\n",
    "flat_input[\"BDRICM\"] = flat_input[\"BDRICM\"].astype(float)\n",
    "flat_input[\"BLD\"] = flat_input[\"BLD\"].astype(float)\n",
    "flat_input[\"CLYPPT\"] = flat_input[\"CLYPPT\"].astype(float)\n",
    "flat_input[\"DRAINFAO\"] = flat_input[\"DRAINFAO\"].astype(float)\n",
    "flat_input[\"elevation\"] = flat_input[\"elevation\"].astype(float)\n",
    "flat_input[\"EVI\"] = flat_input[\"EVI\"].astype(float)\n",
    "flat_input[\"Landcover30m\"] = flat_input[\"Landcover30m\"].astype(float)\n",
    "flat_input[\"NDVI\"] = flat_input[\"NDVI\"].astype(float)\n",
    "flat_input[\"ORCDRC\"] = flat_input[\"ORCDRC\"].astype(float)\n",
    "flat_input[\"PHIHOX\"] = flat_input[\"PHIHOX\"].astype(float)\n",
    "flat_input[\"prec\"] = flat_input[\"prec\"].astype(float)\n",
    "flat_input[\"slope\"] = flat_input[\"slope\"].astype(float)\n",
    "flat_input[\"srad\"] = flat_input[\"srad\"].astype(float)\n",
    "flat_input[\"tavg\"] = flat_input[\"tavg\"].astype(float)\n",
    "flat_input[\"TEXMHT\"] = flat_input[\"TEXMHT\"].astype(float)\n",
    "flat_input[\"wind\"] = flat_input[\"wind\"].astype(float)"
   ]
  },
  {
   "cell_type": "code",
   "execution_count": null,
   "metadata": {},
   "outputs": [],
   "source": [
    "flat_input.dtypes"
   ]
  },
  {
   "cell_type": "markdown",
   "metadata": {},
   "source": [
    "#### Normalize EVI and NDVI "
   ]
  },
  {
   "cell_type": "code",
   "execution_count": null,
   "metadata": {},
   "outputs": [],
   "source": [
    "flat_input['EVI'] = flat_input['EVI']*0.0001\n",
    "flat_input['NDVI'] = flat_input['NDVI']*0.0001"
   ]
  },
  {
   "cell_type": "markdown",
   "metadata": {},
   "source": [
    "#### Keep areas that are indicated as cropland in GFSAD30m"
   ]
  },
  {
   "cell_type": "code",
   "execution_count": null,
   "metadata": {},
   "outputs": [],
   "source": [
    "flat_input = flat_input[flat_input[\"Landcover30m\"] == 2]\n",
    "flat_input = flat_input.drop([\"Landcover30m\"], axis=1)"
   ]
  },
  {
   "cell_type": "markdown",
   "metadata": {},
   "source": [
    "#### Fixing out-of-range values"
   ]
  },
  {
   "cell_type": "code",
   "execution_count": null,
   "metadata": {},
   "outputs": [],
   "source": [
    "# remove blank spaces in state names    \n",
    "flat_input[\"state\"].replace('\\s+', '_',regex=True,inplace=True)\n",
    "flat_input[\"state\"].replace(\"'\", '_',regex=True,inplace=True)"
   ]
  },
  {
   "cell_type": "code",
   "execution_count": null,
   "metadata": {},
   "outputs": [],
   "source": [
    "# Re-indexing allocation keys to avoid dublicates\n",
    "flat_input = flat_input.assign(alloc_key=np.arange(len(flat_input))).reset_index(drop=True)"
   ]
  },
  {
   "cell_type": "code",
   "execution_count": null,
   "metadata": {},
   "outputs": [],
   "source": [
    "# Turning NaN rows to 0\n",
    "flat_input.fillna(0,inplace=True)"
   ]
  },
  {
   "cell_type": "code",
   "execution_count": null,
   "metadata": {},
   "outputs": [],
   "source": [
    "# Turn all negative values to 0\n",
    "pred_columns = ['tavg', 'srad', 'prec', 'wind', 'PHIHOX',\n",
    "                'BDRICM', 'BLD', 'CLYPPT', 'TEXMHT', 'ORCDRC',\n",
    "                'DRAINFAO', 'slope', 'elevation']\n",
    "\n",
    "for col in pred_columns:\n",
    "    mvalue = flat_input[col].mean()\n",
    "    print (mvalue)\n",
    "    flat_input[col][flat_input[col]<0] = 0"
   ]
  },
  {
   "cell_type": "code",
   "execution_count": null,
   "metadata": {},
   "outputs": [],
   "source": [
    "for col in pred_columns:\n",
    "    mvalue = flat_input[col].mean()\n",
    "    print (mvalue)"
   ]
  },
  {
   "cell_type": "code",
   "execution_count": null,
   "metadata": {},
   "outputs": [],
   "source": [
    "flat_input.columns"
   ]
  },
  {
   "cell_type": "code",
   "execution_count": null,
   "metadata": {},
   "outputs": [],
   "source": [
    "flat_input = change_column_order(flat_input, 'alloc_key', 0)\n",
    "flat_input = change_column_order(flat_input, 'state', 1)\n",
    "flat_input = change_column_order(flat_input, 'lon', 2)\n",
    "flat_input = change_column_order(flat_input, 'lat', 3)\n",
    "flat_input = change_column_order(flat_input, 'country', 4)\n",
    "flat_input = change_column_order(flat_input, 'c_code', 5)\n",
    "\n",
    "flat_input = change_column_order(flat_input, 'statearea_ha', 6)\n",
    "flat_input = change_column_order(flat_input, 'perimeter_km', 7)\n",
    "flat_input = change_column_order(flat_input, 'year', 8)\n",
    "flat_input = change_column_order(flat_input, 'crop', 9)\n",
    "flat_input = change_column_order(flat_input, 'harv_area_ha', 10)\n",
    "flat_input = change_column_order(flat_input, 'yield', 11)\n",
    "flat_input = change_column_order(flat_input, 'production_ha', 12)\n",
    "\n",
    "flat_input = change_column_order(flat_input, 'tavg', 13)\n",
    "flat_input = change_column_order(flat_input, 'srad', 14)\n",
    "flat_input = change_column_order(flat_input, 'prec', 15)\n",
    "flat_input = change_column_order(flat_input, 'wind', 16)\n",
    "\n",
    "flat_input = change_column_order(flat_input, 'PHIHOX', 17)\n",
    "flat_input = change_column_order(flat_input, 'BDRICM', 18)\n",
    "flat_input = change_column_order(flat_input, 'BLD', 19)\n",
    "flat_input = change_column_order(flat_input, 'CLYPPT', 20)\n",
    "flat_input = change_column_order(flat_input, 'TEXMHT', 21)\n",
    "flat_input = change_column_order(flat_input, 'ORCDRC', 22)\n",
    "flat_input = change_column_order(flat_input, 'DRAINFAO', 23)\n",
    "\n",
    "flat_input = change_column_order(flat_input, 'EVI', 24)\n",
    "flat_input = change_column_order(flat_input, 'NDVI', 25)\n",
    "\n",
    "flat_input = change_column_order(flat_input, 'slope', 26)\n",
    "flat_input = change_column_order(flat_input, 'elevation', 27)"
   ]
  },
  {
   "cell_type": "code",
   "execution_count": null,
   "metadata": {},
   "outputs": [],
   "source": [
    "flat_input.head()"
   ]
  },
  {
   "cell_type": "code",
   "execution_count": null,
   "metadata": {},
   "outputs": [],
   "source": [
    "flat_input.columns"
   ]
  },
  {
   "cell_type": "markdown",
   "metadata": {},
   "source": [
    "#### Final column fixing"
   ]
  },
  {
   "cell_type": "code",
   "execution_count": null,
   "metadata": {},
   "outputs": [],
   "source": [
    "# give crop name\n",
    "crop_modelled =\"Rice\"\n",
    "\n",
    "# Dropping columns\n",
    "flat_input = flat_input.drop([\"country\"], axis=1)\n",
    "flat_input = flat_input.drop([\"c_code\"], axis=1)\n",
    "flat_input = flat_input.drop([\"perimeter_km\"], axis=1)\n",
    "flat_input = flat_input.drop([\"year\"], axis=1)\n",
    "flat_input = flat_input.drop([\"crop\"], axis=1)\n",
    "flat_input = flat_input.drop([\"yield\"], axis=1)\n",
    "flat_input = flat_input.drop([\"production_ha\"], axis=1)\n",
    "\n",
    "\n",
    "#Remaning columns\n",
    "flat_input.rename(columns={'state': 'NAME'}, inplace=True)\n",
    "flat_input.rename(columns={'statearea_ha': 'statearea'}, inplace=True)\n",
    "flat_input.rename(columns={'harv_area_ha': crop_modelled}, inplace=True)\n"
   ]
  },
  {
   "cell_type": "code",
   "execution_count": null,
   "metadata": {},
   "outputs": [],
   "source": [
    "flat_input"
   ]
  },
  {
   "cell_type": "code",
   "execution_count": null,
   "metadata": {},
   "outputs": [],
   "source": [
    "# This part prints full results\n",
    "\n",
    "path = r\"N:\\Agrodem\\Downscaling\\Output_Data\\FLAT_input\"\n",
    "name_of_flat_input_file = \"flat_input_Rice_1km\"\n",
    "\n",
    "flat_input.to_csv(os.path.join(path,\"{c}.csv\".format(c=name_of_flat_input_file)), index=False)"
   ]
  },
  {
   "cell_type": "code",
   "execution_count": null,
   "metadata": {},
   "outputs": [],
   "source": []
  }
 ],
 "metadata": {
  "kernelspec": {
   "display_name": "Python 3",
   "language": "python",
   "name": "python3"
  },
  "language_info": {
   "codemirror_mode": {
    "name": "ipython",
    "version": 3
   },
   "file_extension": ".py",
   "mimetype": "text/x-python",
   "name": "python",
   "nbconvert_exporter": "python",
   "pygments_lexer": "ipython3",
   "version": "3.7.6"
  }
 },
 "nbformat": 4,
 "nbformat_minor": 2
}
